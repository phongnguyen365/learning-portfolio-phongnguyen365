{
 "cells": [
  {
   "attachments": {},
   "cell_type": "markdown",
   "id": "123456",
   "metadata": {},
   "source": [
    "<div style=\"text-align:left;font-size:2em\"><span style=\"font-weight:bolder;font-size:1.25em\">SP2273 | Learning Portfolio</span><br><br><span style=\"font-weight:bold;color:darkred\">Files, Folders & OS (Need)</span></div>"
   ]
  },
  {
   "attachments": {},
   "cell_type": "markdown",
   "id": "4afd53d3",
   "metadata": {},
   "source": [
    "# What to expect in this chapter"
   ]
  },
  {
   "attachments": {},
   "cell_type": "markdown",
   "id": "06ffffde",
   "metadata": {},
   "source": [
    "# 1 Important concepts"
   ]
  },
  {
   "cell_type": "markdown",
   "id": "ea5ffb76-7b23-4497-a31a-3c7c32a6aab9",
   "metadata": {},
   "source": [
    "OS: operating system\n",
    "\n",
    "Folder == Directory"
   ]
  },
  {
   "attachments": {},
   "cell_type": "markdown",
   "id": "50bbc200",
   "metadata": {},
   "source": [
    "## 1.1 Path"
   ]
  },
  {
   "cell_type": "markdown",
   "id": "00bced3f-bc49-4ac5-afba-79441bd95102",
   "metadata": {},
   "source": [
    "Path: address to a location on the computer"
   ]
  },
  {
   "attachments": {},
   "cell_type": "markdown",
   "id": "7153e584",
   "metadata": {},
   "source": [
    "## 1.2 More about relative paths"
   ]
  },
  {
   "attachments": {},
   "cell_type": "markdown",
   "id": "3c8c4b74",
   "metadata": {},
   "source": [
    "### macOS or Linux"
   ]
  },
  {
   "cell_type": "code",
   "execution_count": null,
   "id": "a530b030",
   "metadata": {},
   "outputs": [],
   "source": [
    "\n",
    "# Your code here\n"
   ]
  },
  {
   "attachments": {},
   "cell_type": "markdown",
   "id": "fd5d02b4",
   "metadata": {},
   "source": [
    "## 1.3 Path separator"
   ]
  },
  {
   "attachments": {},
   "cell_type": "markdown",
   "id": "35d2558d",
   "metadata": {},
   "source": [
    "## 1.4 Text files vs. Binary files"
   ]
  },
  {
   "cell_type": "markdown",
   "id": "6fe03ef9-a038-46de-8af4-4b0518153a42",
   "metadata": {},
   "source": [
    "Text file: csv, txt, etc. Normal data like numbers, alphabets, etc.\\\n",
    "Binary file: \n",
    "- need to be processed: image, video,...\n",
    "- run on specific OS"
   ]
  },
  {
   "attachments": {},
   "cell_type": "markdown",
   "id": "f04a6bb3",
   "metadata": {},
   "source": [
    "## 1.5 Extensions"
   ]
  },
  {
   "cell_type": "markdown",
   "id": "7ab031f3-f5e5-4351-954b-dabeb67b84e0",
   "metadata": {},
   "source": [
    "csv, doc, txt,..."
   ]
  },
  {
   "attachments": {},
   "cell_type": "markdown",
   "id": "6e6aeb85",
   "metadata": {},
   "source": [
    "# 2 Opening and closing files"
   ]
  },
  {
   "attachments": {},
   "cell_type": "markdown",
   "id": "af14ece2",
   "metadata": {},
   "source": [
    "## 2.1 Reading data"
   ]
  },
  {
   "cell_type": "code",
   "execution_count": null,
   "id": "9b3873ab-fb87-4eae-945a-d678fe2503c9",
   "metadata": {},
   "outputs": [],
   "source": [
    "with open('spectrum-01.txt', 'r') as file:\n",
    "    file_content = file.read()\n",
    "\n",
    "print(file_content)"
   ]
  },
  {
   "attachments": {},
   "cell_type": "markdown",
   "id": "53a0d98e",
   "metadata": {},
   "source": [
    "## 2.2 Writing data"
   ]
  },
  {
   "cell_type": "code",
   "execution_count": 4,
   "id": "449bc52e-f936-451b-a6fa-695b53d76f17",
   "metadata": {},
   "outputs": [],
   "source": [
    "text = 'Far out in the uncharted backwaters of the unfashionable end of the western spiral arm of the Galaxy lies a small unregarded yellow sun.\\nOrbiting this at a distance of roughly ninety-two million miles is an utterly insignificant little blue green planet whose ape-descended life forms are so amazingly primitive that they still think digital watches are a pretty neat idea.'"
   ]
  },
  {
   "attachments": {},
   "cell_type": "markdown",
   "id": "4289326d",
   "metadata": {},
   "source": [
    "### Writing to a file in one go"
   ]
  },
  {
   "cell_type": "code",
   "execution_count": 7,
   "id": "884e222f",
   "metadata": {},
   "outputs": [
    {
     "name": "stdout",
     "output_type": "stream",
     "text": [
      "Far out in the uncharted backwaters of the unfashionable end of the western spiral arm of the Galaxy lies a small unregarded yellow sun.\n",
      "Orbiting this at a distance of roughly ninety-two million miles is an utterly insignificant little blue green planet whose ape-descended life forms are so amazingly primitive that they still think digital watches are a pretty neat idea.\n"
     ]
    }
   ],
   "source": [
    "\n",
    "# Your code here\n",
    "with open('my-text-once.txt', 'w') as file:\n",
    "    file.write(text)\n",
    "\n",
    "with open('my-text-once.txt', 'r') as file:\n",
    "    file_content = file.read()\n",
    "\n",
    "print(file_content)"
   ]
  },
  {
   "attachments": {},
   "cell_type": "markdown",
   "id": "f85b60e6",
   "metadata": {},
   "source": [
    "### Writing to a file, line by line"
   ]
  },
  {
   "cell_type": "code",
   "execution_count": 8,
   "id": "d96bff7a",
   "metadata": {},
   "outputs": [],
   "source": [
    "\n",
    "# Your code here\n",
    "with open('my-text-lines.txt', 'w') as file:\n",
    "    for line in text.splitlines():          #splitline: splits a string into a list\n",
    "        file.writelines(line)"
   ]
  },
  {
   "attachments": {},
   "cell_type": "markdown",
   "id": "1b12c7d6",
   "metadata": {},
   "source": [
    "# 3 Some useful packages"
   ]
  },
  {
   "cell_type": "code",
   "execution_count": 1,
   "id": "82642d92-7fbc-4f5e-aca5-a968cb9facd0",
   "metadata": {},
   "outputs": [],
   "source": [
    "import os\n",
    "import glob\n",
    "import shutil"
   ]
  },
  {
   "attachments": {},
   "cell_type": "markdown",
   "id": "3d8ae84c",
   "metadata": {},
   "source": [
    "# 4 OS safe paths"
   ]
  },
  {
   "cell_type": "code",
   "execution_count": 8,
   "id": "c931c907-c88c-4eb1-b77b-f86e545a46a5",
   "metadata": {},
   "outputs": [
    {
     "name": "stdout",
     "output_type": "stream",
     "text": [
      ".\\all-data\\sg-data\\data-01.txt\n"
     ]
    }
   ],
   "source": [
    "path = os.path.join('.', 'all-data', 'sg-data', 'data-01.txt')\n",
    "#Generate path: insert '\\' between the arguements\n",
    "print(path)"
   ]
  },
  {
   "attachments": {},
   "cell_type": "markdown",
   "id": "478377e2",
   "metadata": {},
   "source": [
    "# 5 Folders"
   ]
  },
  {
   "cell_type": "code",
   "execution_count": null,
   "id": "ec554005-e02b-40c6-89a5-8c4504b30817",
   "metadata": {},
   "outputs": [],
   "source": []
  },
  {
   "attachments": {},
   "cell_type": "markdown",
   "id": "d387446f",
   "metadata": {},
   "source": [
    "## 5.1 Creating folders"
   ]
  },
  {
   "attachments": {},
   "cell_type": "markdown",
   "id": "83bf4fb3",
   "metadata": {},
   "source": [
    "## 5.2 Checking for existence"
   ]
  },
  {
   "attachments": {},
   "cell_type": "markdown",
   "id": "08d305d1",
   "metadata": {},
   "source": [
    "### Using try-except"
   ]
  },
  {
   "cell_type": "code",
   "execution_count": 3,
   "id": "20388c7b-c302-4201-afc0-9e57aff288d4",
   "metadata": {},
   "outputs": [],
   "source": [
    "import os\n",
    "import glob\n",
    "import shutil"
   ]
  },
  {
   "cell_type": "code",
   "execution_count": 4,
   "id": "00a6c705",
   "metadata": {},
   "outputs": [
    {
     "name": "stdout",
     "output_type": "stream",
     "text": [
      " people\\john already exists; skipping creation\n",
      " people\\paul already exists; skipping creation\n",
      " people\\ringo already exists; skipping creation\n"
     ]
    }
   ],
   "source": [
    "\n",
    "# Your code here\n",
    "for person in ['john', 'paul', 'ringo']:\n",
    "    path = os.path.join('people', person)\n",
    "    try:\n",
    "        os.mkdir(path)\n",
    "        print(f'Creating {path}')\n",
    "    except FileExistsError:\n",
    "        print(f' {path} already exists; skipping creation')"
   ]
  },
  {
   "attachments": {},
   "cell_type": "markdown",
   "id": "e2f22041",
   "metadata": {},
   "source": [
    "### Using os.path.exists()"
   ]
  },
  {
   "cell_type": "code",
   "execution_count": 6,
   "id": "7c1630ed",
   "metadata": {},
   "outputs": [
    {
     "name": "stdout",
     "output_type": "stream",
     "text": [
      "people\\john already exists, skipping creation\n",
      "people\\paul already exists, skipping creation\n",
      "people\\ringo already exists, skipping creation\n"
     ]
    }
   ],
   "source": [
    "import os\n",
    "import glob\n",
    "import shutil\n",
    "# Your code here\n",
    "for person in ['john', 'paul', 'ringo']:\n",
    "    path = os.path.join('people', person)\n",
    "    if os.path.exists(path):\n",
    "        print(f'{path} already exists, skipping creation')\n",
    "    else:\n",
    "        os.mkdir(path)\n",
    "        print(f'Creating {path}')"
   ]
  },
  {
   "attachments": {},
   "cell_type": "markdown",
   "id": "884c7257",
   "metadata": {},
   "source": [
    "## 5.3 Copying files"
   ]
  },
  {
   "cell_type": "code",
   "execution_count": 7,
   "id": "ca69de46-1ed4-4aed-ac10-f56756e03fd4",
   "metadata": {},
   "outputs": [
    {
     "name": "stdout",
     "output_type": "stream",
     "text": [
      "Copied file to people\\john\n",
      "Copied file to people\\paul\n",
      "Copied file to people\\ringo\n"
     ]
    }
   ],
   "source": [
    "for person in ['john', 'paul', 'ringo']:\n",
    "    path_to_destination = os.path.join('people', person)\n",
    "    shutil.copy('sp2273_logo.png', path_to_destination)\n",
    "    print(f'Copied file to {path_to_destination}')"
   ]
  },
  {
   "cell_type": "code",
   "execution_count": 8,
   "id": "785dfce1-c4a5-47a4-aedf-2ea8d0a0756b",
   "metadata": {},
   "outputs": [
    {
     "name": "stdout",
     "output_type": "stream",
     "text": [
      "Moved logo to people\\john\\imgs\\sp2273_logo.png\n",
      "Moved logo to people\\paul\\imgs\\sp2273_logo.png\n",
      "Moved logo to people\\ringo\\imgs\\sp2273_logo.png\n"
     ]
    }
   ],
   "source": [
    "for person in ['john', 'paul', 'ringo']:\n",
    "    # Create folder 'imgs':\n",
    "    path_to_imgs = os.path.join('people', person, 'imgs')\n",
    "    if not os.path.exists(path_to_imgs):\n",
    "        os.mkdir(path_to_imgs)\n",
    "    # Move logo files:\n",
    "    current_path_of_logo = os.path.join('people', person, 'sp2273_logo.png')\n",
    "    new_path_of_logo = os.path.join('people', person, 'imgs', 'sp2273_logo.png')\n",
    "    shutil.move(current_path_of_logo, new_path_of_logo)\n",
    "    print(f'Moved logo to {new_path_of_logo}')\n"
   ]
  },
  {
   "attachments": {},
   "cell_type": "markdown",
   "id": "97cd9ba4",
   "metadata": {},
   "source": [
    "# 6 Listing and looking for files"
   ]
  },
  {
   "cell_type": "code",
   "execution_count": 9,
   "id": "9e7ec3dd-cdd4-4dc4-aa93-fbdd2b48a3cb",
   "metadata": {},
   "outputs": [
    {
     "data": {
      "text/plain": [
       "['files,_folders_&_os_(need).ipynb',\n",
       " 'my-text-lines.txt',\n",
       " 'my-text-once.txt',\n",
       " 'people',\n",
       " 'sp2273_logo.png',\n",
       " 'spectrum-01.txt']"
      ]
     },
     "execution_count": 9,
     "metadata": {},
     "output_type": "execute_result"
    }
   ],
   "source": [
    "glob.glob('*')"
   ]
  },
  {
   "cell_type": "code",
   "execution_count": 10,
   "id": "b1d394ce-268b-491a-b3b9-afffeafe1c18",
   "metadata": {},
   "outputs": [
    {
     "data": {
      "text/plain": [
       "['people']"
      ]
     },
     "execution_count": 10,
     "metadata": {},
     "output_type": "execute_result"
    }
   ],
   "source": [
    "glob.glob('peo*')"
   ]
  },
  {
   "cell_type": "code",
   "execution_count": 11,
   "id": "13894f0a-84db-4835-906b-209f4886bb8b",
   "metadata": {},
   "outputs": [
    {
     "data": {
      "text/plain": [
       "['people\\\\john', 'people\\\\paul', 'people\\\\ringo']"
      ]
     },
     "execution_count": 11,
     "metadata": {},
     "output_type": "execute_result"
    }
   ],
   "source": [
    "glob.glob('peo*/*')"
   ]
  },
  {
   "cell_type": "code",
   "execution_count": 12,
   "id": "c7fd900a-d138-443f-8bb4-3ec2dc7397b7",
   "metadata": {},
   "outputs": [
    {
     "data": {
      "text/plain": [
       "['people\\\\',\n",
       " 'people\\\\john',\n",
       " 'people\\\\john\\\\imgs',\n",
       " 'people\\\\john\\\\imgs\\\\sp2273_logo.png',\n",
       " 'people\\\\paul',\n",
       " 'people\\\\paul\\\\imgs',\n",
       " 'people\\\\paul\\\\imgs\\\\sp2273_logo.png',\n",
       " 'people\\\\ringo',\n",
       " 'people\\\\ringo\\\\imgs',\n",
       " 'people\\\\ringo\\\\imgs\\\\sp2273_logo.png']"
      ]
     },
     "execution_count": 12,
     "metadata": {},
     "output_type": "execute_result"
    }
   ],
   "source": [
    "glob.glob('people/**', recursive=True)"
   ]
  },
  {
   "cell_type": "code",
   "execution_count": 13,
   "id": "5c01fdf7-f885-4ea3-b679-78d5fca62855",
   "metadata": {},
   "outputs": [
    {
     "data": {
      "text/plain": [
       "['people\\\\john\\\\imgs\\\\sp2273_logo.png',\n",
       " 'people\\\\paul\\\\imgs\\\\sp2273_logo.png',\n",
       " 'people\\\\ringo\\\\imgs\\\\sp2273_logo.png']"
      ]
     },
     "execution_count": 13,
     "metadata": {},
     "output_type": "execute_result"
    }
   ],
   "source": [
    "glob.glob('people/**/*.png', recursive=True)"
   ]
  },
  {
   "attachments": {},
   "cell_type": "markdown",
   "id": "79418456",
   "metadata": {},
   "source": [
    "# 7 Extracting file info"
   ]
  },
  {
   "cell_type": "code",
   "execution_count": 24,
   "id": "614eafa0-2bbe-4fb9-8eaa-09f9c18552ff",
   "metadata": {},
   "outputs": [
    {
     "name": "stdout",
     "output_type": "stream",
     "text": [
      "people/Ringo/imgs/sp2273_logo.png\n"
     ]
    }
   ],
   "source": [
    "path = 'people/Ringo/imgs/sp2273_logo.png'\n",
    "filename = path.split(os.path.sep)[-1]\n",
    "print(filename)\n",
    "#extension = filename.split('.')[-1]\n",
    "#print(filename,'; ', extension)"
   ]
  },
  {
   "cell_type": "code",
   "execution_count": 16,
   "id": "cca00005-6db8-48ec-a501-9499cada1005",
   "metadata": {},
   "outputs": [],
   "source": [
    "path = 'people/Ringo/imgs/sp2273_logo.png'"
   ]
  },
  {
   "cell_type": "code",
   "execution_count": 17,
   "id": "60121c27-3e78-4a87-a128-daba16ae27fd",
   "metadata": {},
   "outputs": [
    {
     "data": {
      "text/plain": [
       "('people/Ringo/imgs', 'sp2273_logo.png')"
      ]
     },
     "execution_count": 17,
     "metadata": {},
     "output_type": "execute_result"
    }
   ],
   "source": [
    "os.path.split(path)      # Split filename from the rest"
   ]
  },
  {
   "cell_type": "code",
   "execution_count": 18,
   "id": "7906f2c9-8d4f-43b8-b9dd-647b54c4e958",
   "metadata": {},
   "outputs": [
    {
     "data": {
      "text/plain": [
       "('people/Ringo/imgs/sp2273_logo', '.png')"
      ]
     },
     "execution_count": 18,
     "metadata": {},
     "output_type": "execute_result"
    }
   ],
   "source": [
    "os.path.splitext(path)   # Split extension"
   ]
  },
  {
   "cell_type": "code",
   "execution_count": 19,
   "id": "90167c92-d60c-493c-b328-c7332a4f4276",
   "metadata": {},
   "outputs": [
    {
     "data": {
      "text/plain": [
       "'people/Ringo/imgs'"
      ]
     },
     "execution_count": 19,
     "metadata": {},
     "output_type": "execute_result"
    }
   ],
   "source": [
    "os.path.dirname(path)    # Show the directory"
   ]
  },
  {
   "attachments": {},
   "cell_type": "markdown",
   "id": "954e2ec9",
   "metadata": {},
   "source": [
    "# 8 Deleting stuff"
   ]
  },
  {
   "cell_type": "code",
   "execution_count": 20,
   "id": "6fbc5d5d-d0cd-424b-89bf-1b06e2809b86",
   "metadata": {},
   "outputs": [],
   "source": [
    "os.remove('people/Ringo/imgs/sp2273_logo.png')"
   ]
  },
  {
   "cell_type": "code",
   "execution_count": 22,
   "id": "164b2956-74a9-42b0-90aa-9d5cea1514fe",
   "metadata": {},
   "outputs": [],
   "source": [
    "shutil.rmtree('people/Ringo')"
   ]
  }
 ],
 "metadata": {
  "kernelspec": {
   "display_name": "Python 3 (ipykernel)",
   "language": "python",
   "name": "python3"
  },
  "language_info": {
   "codemirror_mode": {
    "name": "ipython",
    "version": 3
   },
   "file_extension": ".py",
   "mimetype": "text/x-python",
   "name": "python",
   "nbconvert_exporter": "python",
   "pygments_lexer": "ipython3",
   "version": "3.11.5"
  },
  "toc": {
   "base_numbering": 1,
   "nav_menu": {},
   "number_sections": true,
   "sideBar": true,
   "skip_h1_title": false,
   "title_cell": "Table of Contents",
   "title_sidebar": "Contents",
   "toc_cell": false,
   "toc_position": {},
   "toc_section_display": true,
   "toc_window_display": false
  },
  "vscode": {
   "interpreter": {
    "hash": "31f2aee4e71d21fbe5cf8b01ff0e069b9275f58929596ceb00d14d90e3e16cd6"
   }
  }
 },
 "nbformat": 4,
 "nbformat_minor": 5
}
